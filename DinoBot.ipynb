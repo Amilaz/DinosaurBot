{
 "cells": [
  {
   "cell_type": "code",
   "execution_count": 1,
   "metadata": {},
   "outputs": [
    {
     "name": "stderr",
     "output_type": "stream",
     "text": [
      "Using TensorFlow backend.\n"
     ]
    }
   ],
   "source": [
    "from utils.dino_game import DinoGame\n",
    "from utils.game_state import GameSate\n",
    "from utils import model as model_utils\n",
    "from utils import const\n",
    "from utils import training\n",
    "import os"
   ]
  },
  {
   "cell_type": "code",
   "execution_count": 2,
   "metadata": {},
   "outputs": [],
   "source": [
    "model_path = os.path.join(os.path.abspath(''), \"models\", \"base_models.json\")\n",
    "weight_path = os.path.join(os.path.abspath(''), \"models\", \"weight.hdf5\")"
   ]
  },
  {
   "cell_type": "code",
   "execution_count": 3,
   "metadata": {},
   "outputs": [
    {
     "name": "stdout",
     "output_type": "stream",
     "text": [
      "Load old model\n",
      "Load old weight\n",
      "__________________________________________________________________________________________________\n",
      "Layer (type)                    Output Shape         Param #     Connected to                     \n",
      "==================================================================================================\n",
      "input_1 (InputLayer)            (None, 32, 72, 5)    0                                            \n",
      "__________________________________________________________________________________________________\n",
      "conv2d_1 (Conv2D)               (None, 11, 24, 32)   4032        input_1[0][0]                    \n",
      "__________________________________________________________________________________________________\n",
      "conv2d_2 (Conv2D)               (None, 4, 8, 64)     51264       conv2d_1[0][0]                   \n",
      "__________________________________________________________________________________________________\n",
      "conv2d_3 (Conv2D)               (None, 2, 3, 128)    204928      conv2d_2[0][0]                   \n",
      "__________________________________________________________________________________________________\n",
      "average_pooling2d_1 (AveragePoo (None, 1, 1, 128)    0           conv2d_3[0][0]                   \n",
      "__________________________________________________________________________________________________\n",
      "flatten_1 (Flatten)             (None, 128)          0           average_pooling2d_1[0][0]        \n",
      "__________________________________________________________________________________________________\n",
      "input_2 (InputLayer)            (None, 1)            0                                            \n",
      "__________________________________________________________________________________________________\n",
      "concatenate_1 (Concatenate)     (None, 129)          0           flatten_1[0][0]                  \n",
      "                                                                 input_2[0][0]                    \n",
      "__________________________________________________________________________________________________\n",
      "dense_1 (Dense)                 (None, 512)          66560       concatenate_1[0][0]              \n",
      "__________________________________________________________________________________________________\n",
      "dropout_1 (Dropout)             (None, 512)          0           dense_1[0][0]                    \n",
      "__________________________________________________________________________________________________\n",
      "dense_2 (Dense)                 (None, 2)            1026        dropout_1[0][0]                  \n",
      "==================================================================================================\n",
      "Total params: 327,810\n",
      "Trainable params: 327,810\n",
      "Non-trainable params: 0\n",
      "__________________________________________________________________________________________________\n"
     ]
    }
   ],
   "source": [
    "model = model_utils.prepare_model(model_path, weight_path)"
   ]
  },
  {
   "cell_type": "code",
   "execution_count": null,
   "metadata": {},
   "outputs": [
    {
     "name": "stdout",
     "output_type": "stream",
     "text": [
      "\u001b[92m GAME 317 /TIMESTEP 15700 /EPSILON 9.901000000039702e-05 /ACTION TYPE Exploit /ACTION 0 /REWARD 9.142857142857142 /IS OVER False /LOSS 0 /Q 0 \u001b[0m\n",
      "\u001b[92m GAME 317 /TIMESTEP 15701 /EPSILON 9.901000000039702e-05 /ACTION TYPE Exploit /ACTION 0 /REWARD 9.428571428571429 /IS OVER False /LOSS 0 /Q 0 \u001b[0m\n",
      "\u001b[92m GAME 317 /TIMESTEP 15702 /EPSILON 9.901000000039702e-05 /ACTION TYPE Exploit /ACTION 0 /REWARD 9.714285714285714 /IS OVER False /LOSS 0 /Q 0 \u001b[0m\n",
      "\u001b[92m GAME 317 /TIMESTEP 15703 /EPSILON 9.901000000039702e-05 /ACTION TYPE Exploit /ACTION 0 /REWARD 10.0 /IS OVER False /LOSS 0 /Q 0 \u001b[0m\n",
      "\u001b[92m GAME 317 /TIMESTEP 15704 /EPSILON 9.901000000039702e-05 /ACTION TYPE Exploit /ACTION 0 /REWARD 10.285714285714286 /IS OVER False /LOSS 0 /Q 0 \u001b[0m\n",
      "\u001b[92m GAME 317 /TIMESTEP 15705 /EPSILON 9.901000000039702e-05 /ACTION TYPE Exploit /ACTION 0 /REWARD 10.571428571428571 /IS OVER False /LOSS 0 /Q 0 \u001b[0m\n",
      "\u001b[92m GAME 317 /TIMESTEP 15706 /EPSILON 9.901000000039702e-05 /ACTION TYPE Exploit /ACTION 1 /REWARD 7.6 /IS OVER False /LOSS 0 /Q 0 \u001b[0m\n",
      "\u001b[92m GAME 317 /TIMESTEP 15707 /EPSILON 9.901000000039702e-05 /ACTION TYPE Exploit /ACTION 0 /REWARD 11.142857142857142 /IS OVER False /LOSS 0 /Q 0 \u001b[0m\n",
      "\u001b[92m GAME 317 /TIMESTEP 15708 /EPSILON 9.901000000039702e-05 /ACTION TYPE Exploit /ACTION 0 /REWARD 11.428571428571429 /IS OVER False /LOSS 0 /Q 0 \u001b[0m\n",
      "\u001b[92m GAME 317 /TIMESTEP 15709 /EPSILON 9.901000000039702e-05 /ACTION TYPE Exploit /ACTION 0 /REWARD 11.714285714285714 /IS OVER False /LOSS 0 /Q 0 \u001b[0m\n",
      "\u001b[92m GAME 317 /TIMESTEP 15710 /EPSILON 9.901000000039702e-05 /ACTION TYPE Exploit /ACTION 1 /REWARD 8.4 /IS OVER False /LOSS 0 /Q 0 \u001b[0m\n",
      "\u001b[92m GAME 317 /TIMESTEP 15711 /EPSILON 9.901000000039702e-05 /ACTION TYPE Exploit /ACTION 0 /REWARD 12.285714285714286 /IS OVER False /LOSS 0 /Q 0 \u001b[0m\n",
      "\u001b[92m GAME 317 /TIMESTEP 15712 /EPSILON 9.901000000039702e-05 /ACTION TYPE Exploit /ACTION 0 /REWARD 12.571428571428571 /IS OVER False /LOSS 0 /Q 0 \u001b[0m\n",
      "\u001b[92m GAME 317 /TIMESTEP 15713 /EPSILON 9.901000000039702e-05 /ACTION TYPE Exploit /ACTION 1 /REWARD 9.1 /IS OVER False /LOSS 0 /Q 0 \u001b[0m\n",
      "\u001b[92m GAME 317 /TIMESTEP 15714 /EPSILON 9.901000000039702e-05 /ACTION TYPE Exploit /ACTION 0 /REWARD 13.285714285714286 /IS OVER False /LOSS 0 /Q 0 \u001b[0m\n",
      "\u001b[92m GAME 317 /TIMESTEP 15715 /EPSILON 9.901000000039702e-05 /ACTION TYPE Exploit /ACTION 0 /REWARD 13.571428571428571 /IS OVER False /LOSS 0 /Q 0 \u001b[0m\n",
      "\u001b[92m GAME 317 /TIMESTEP 15716 /EPSILON 9.901000000039702e-05 /ACTION TYPE Exploit /ACTION 0 /REWARD 13.857142857142858 /IS OVER False /LOSS 0 /Q 0 \u001b[0m\n",
      "\u001b[92m GAME 317 /TIMESTEP 15717 /EPSILON 9.901000000039702e-05 /ACTION TYPE Exploit /ACTION 1 /REWARD 9.9 /IS OVER False /LOSS 0 /Q 0 \u001b[0m\n",
      "\u001b[92m GAME 317 /TIMESTEP 15718 /EPSILON 9.901000000039702e-05 /ACTION TYPE Exploit /ACTION 0 /REWARD 14.285714285714286 /IS OVER False /LOSS 0 /Q 0 \u001b[0m\n",
      "\u001b[92m GAME 317 /TIMESTEP 15719 /EPSILON 9.901000000039702e-05 /ACTION TYPE Exploit /ACTION 0 /REWARD 14.285714285714286 /IS OVER False /LOSS 0 /Q 0 \u001b[0m\n",
      "\u001b[92m GAME 317 /TIMESTEP 15720 /EPSILON 9.901000000039702e-05 /ACTION TYPE Exploit /ACTION 0 /REWARD 14.285714285714286 /IS OVER False /LOSS 0 /Q 0 \u001b[0m\n",
      "\u001b[92m GAME 317 /TIMESTEP 15721 /EPSILON 9.901000000039702e-05 /ACTION TYPE Exploit /ACTION 1 /REWARD 10.0 /IS OVER False /LOSS 0 /Q 0 \u001b[0m\n",
      "\u001b[92m GAME 317 /TIMESTEP 15722 /EPSILON 9.901000000039702e-05 /ACTION TYPE Exploit /ACTION 1 /REWARD 10.0 /IS OVER False /LOSS 0 /Q 0 \u001b[0m\n",
      "\u001b[92m GAME 317 /TIMESTEP 15723 /EPSILON 9.901000000039702e-05 /ACTION TYPE Exploit /ACTION 0 /REWARD 14.285714285714286 /IS OVER False /LOSS 0 /Q 0 \u001b[0m\n",
      "\u001b[92m GAME 317 /TIMESTEP 15724 /EPSILON 9.901000000039702e-05 /ACTION TYPE Exploit /ACTION 0 /REWARD 14.285714285714286 /IS OVER False /LOSS 0 /Q 0 \u001b[0m\n",
      "\u001b[92m GAME 317 /TIMESTEP 15725 /EPSILON 9.901000000039702e-05 /ACTION TYPE Exploit /ACTION 1 /REWARD 10.0 /IS OVER False /LOSS 0 /Q 0 \u001b[0m\n",
      "\u001b[92m GAME 317 /TIMESTEP 15726 /EPSILON 9.901000000039702e-05 /ACTION TYPE Exploit /ACTION 1 /REWARD 11.9 /IS OVER False /LOSS 0 /Q 0 \u001b[0m\n",
      "\u001b[92m GAME 318 /TIMESTEP 15727 /EPSILON 9.901000000039702e-05 /ACTION TYPE Exploit /ACTION 0 /REWARD 0.08264462809917356 /IS OVER True /LOSS 0 /Q 0 \u001b[0m\n",
      "\u001b[92m GAME 318 /TIMESTEP 15728 /EPSILON 9.901000000039702e-05 /ACTION TYPE Exploit /ACTION 1 /REWARD 0.5 /IS OVER False /LOSS 0 /Q 0 \u001b[0m\n",
      "\u001b[92m GAME 318 /TIMESTEP 15729 /EPSILON 9.901000000039702e-05 /ACTION TYPE Exploit /ACTION 0 /REWARD 1.0 /IS OVER False /LOSS 0 /Q 0 \u001b[0m\n",
      "\u001b[92m GAME 318 /TIMESTEP 15730 /EPSILON 9.901000000039702e-05 /ACTION TYPE Exploit /ACTION 0 /REWARD 1.2857142857142858 /IS OVER False /LOSS 0 /Q 0 \u001b[0m\n",
      "\u001b[92m GAME 318 /TIMESTEP 15731 /EPSILON 9.901000000039702e-05 /ACTION TYPE Exploit /ACTION 0 /REWARD 1.5714285714285714 /IS OVER False /LOSS 0 /Q 0 \u001b[0m\n",
      "\u001b[92m GAME 318 /TIMESTEP 15732 /EPSILON 9.901000000039702e-05 /ACTION TYPE Exploit /ACTION 0 /REWARD 1.8571428571428572 /IS OVER False /LOSS 0 /Q 0 \u001b[0m\n",
      "\u001b[92m GAME 318 /TIMESTEP 15733 /EPSILON 9.901000000039702e-05 /ACTION TYPE Exploit /ACTION 0 /REWARD 2.142857142857143 /IS OVER False /LOSS 0 /Q 0 \u001b[0m\n",
      "\u001b[92m GAME 318 /TIMESTEP 15734 /EPSILON 9.901000000039702e-05 /ACTION TYPE Exploit /ACTION 0 /REWARD 2.4285714285714284 /IS OVER False /LOSS 0 /Q 0 \u001b[0m\n",
      "\u001b[92m GAME 318 /TIMESTEP 15735 /EPSILON 9.901000000039702e-05 /ACTION TYPE Exploit /ACTION 0 /REWARD 2.7142857142857144 /IS OVER False /LOSS 0 /Q 0 \u001b[0m\n",
      "\u001b[92m GAME 318 /TIMESTEP 15736 /EPSILON 9.901000000039702e-05 /ACTION TYPE Exploit /ACTION 0 /REWARD 2.857142857142857 /IS OVER False /LOSS 0 /Q 0 \u001b[0m\n",
      "\u001b[92m GAME 318 /TIMESTEP 15737 /EPSILON 9.901000000039702e-05 /ACTION TYPE Exploit /ACTION 0 /REWARD 3.142857142857143 /IS OVER False /LOSS 0 /Q 0 \u001b[0m\n",
      "\u001b[92m GAME 318 /TIMESTEP 15738 /EPSILON 9.901000000039702e-05 /ACTION TYPE Exploit /ACTION 0 /REWARD 3.4285714285714284 /IS OVER False /LOSS 0 /Q 0 \u001b[0m\n",
      "\u001b[92m GAME 318 /TIMESTEP 15739 /EPSILON 9.901000000039702e-05 /ACTION TYPE Exploit /ACTION 0 /REWARD 3.7142857142857144 /IS OVER False /LOSS 0 /Q 0 \u001b[0m\n",
      "\u001b[92m GAME 318 /TIMESTEP 15740 /EPSILON 9.901000000039702e-05 /ACTION TYPE Exploit /ACTION 0 /REWARD 4.0 /IS OVER False /LOSS 0 /Q 0 \u001b[0m\n",
      "\u001b[92m GAME 318 /TIMESTEP 15741 /EPSILON 9.901000000039702e-05 /ACTION TYPE Exploit /ACTION 0 /REWARD 4.285714285714286 /IS OVER False /LOSS 0 /Q 0 \u001b[0m\n",
      "\u001b[92m GAME 318 /TIMESTEP 15742 /EPSILON 9.901000000039702e-05 /ACTION TYPE Exploit /ACTION 1 /REWARD 3.2 /IS OVER False /LOSS 0 /Q 0 \u001b[0m\n",
      "\u001b[92m GAME 318 /TIMESTEP 15743 /EPSILON 9.901000000039702e-05 /ACTION TYPE Exploit /ACTION 0 /REWARD 4.857142857142857 /IS OVER False /LOSS 0 /Q 0 \u001b[0m\n",
      "\u001b[92m GAME 318 /TIMESTEP 15744 /EPSILON 9.901000000039702e-05 /ACTION TYPE Exploit /ACTION 0 /REWARD 5.142857142857143 /IS OVER False /LOSS 0 /Q 0 \u001b[0m\n",
      "\u001b[92m GAME 318 /TIMESTEP 15745 /EPSILON 9.901000000039702e-05 /ACTION TYPE Exploit /ACTION 0 /REWARD 5.285714285714286 /IS OVER False /LOSS 0 /Q 0 \u001b[0m\n",
      "\u001b[92m GAME 318 /TIMESTEP 15746 /EPSILON 9.901000000039702e-05 /ACTION TYPE Exploit /ACTION 1 /REWARD 3.9 /IS OVER False /LOSS 0 /Q 0 \u001b[0m\n",
      "\u001b[92m GAME 319 /TIMESTEP 15747 /EPSILON 9.901000000039702e-05 /ACTION TYPE Exploit /ACTION 1 /REWARD 0.024390243902439025 /IS OVER True /LOSS 0 /Q 0 \u001b[0m\n",
      "\u001b[92m GAME 319 /TIMESTEP 15748 /EPSILON 9.901000000039702e-05 /ACTION TYPE Exploit /ACTION 1 /REWARD 0.6 /IS OVER False /LOSS 0 /Q 0 \u001b[0m\n"
     ]
    }
   ],
   "source": [
    "game = DinoGame()\n",
    "game_state = GameSate(game)\n",
    "training.train_model(model, game_state, model_exist=True)"
   ]
  },
  {
   "cell_type": "code",
   "execution_count": 5,
   "metadata": {},
   "outputs": [
    {
     "name": "stdout",
     "output_type": "stream",
     "text": [
      "Saved model to disk\n"
     ]
    }
   ],
   "source": [
    "model_utils.save_json_model(model, model_path, weight_path)"
   ]
  },
  {
   "cell_type": "code",
   "execution_count": null,
   "metadata": {},
   "outputs": [],
   "source": []
  },
  {
   "cell_type": "code",
   "execution_count": null,
   "metadata": {},
   "outputs": [],
   "source": []
  }
 ],
 "metadata": {
  "kernelspec": {
   "display_name": "DinoBot",
   "language": "python",
   "name": "dino-bot"
  },
  "language_info": {
   "codemirror_mode": {
    "name": "ipython",
    "version": 3
   },
   "file_extension": ".py",
   "mimetype": "text/x-python",
   "name": "python",
   "nbconvert_exporter": "python",
   "pygments_lexer": "ipython3",
   "version": "3.6.7"
  }
 },
 "nbformat": 4,
 "nbformat_minor": 2
}
